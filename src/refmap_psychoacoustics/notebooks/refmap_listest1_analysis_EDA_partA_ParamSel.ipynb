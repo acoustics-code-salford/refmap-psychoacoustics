{
 "cells": [
  {
   "cell_type": "markdown",
   "id": "ddca5c6b-9abe-4b14-88bb-3b7f1499f201",
   "metadata": {},
   "source": [
    "# REFMAP laboratory listening test 1 analysis: Exploratory data analysis — Part A parameter selection"
   ]
  },
  {
   "cell_type": "markdown",
   "id": "09bc3ff1-7e50-4f06-aa30-f52366c983d3",
   "metadata": {},
   "source": [
    "## Setup"
   ]
  },
  {
   "cell_type": "code",
   "execution_count": 76,
   "id": "1f407a51-0212-4055-b7dc-68361a3059c6",
   "metadata": {},
   "outputs": [],
   "source": [
    "# import statements\n",
    "import sys\n",
    "import os\n",
    "import numpy as np\n",
    "import pandas as pd\n",
    "from PyQt5.QtWidgets import QFileDialog, QApplication\n",
    "from scipy import stats\n",
    "import matplotlib as mpl\n",
    "from matplotlib import pyplot as plt\n",
    "import seaborn as sns\n",
    "import statsmodels.api as sm\n",
    "import pingouin as pg\n",
    "from sklearn.ensemble import RandomForestRegressor, HistGradientBoostingRegressor, ExtraTreesRegressor\n",
    "from sklearn import preprocessing, feature_selection \n",
    "from sklearn.model_selection import train_test_split\n",
    "import joblib\n"
   ]
  },
  {
   "cell_type": "code",
   "execution_count": 77,
   "id": "89ce43d5-2337-4407-88de-7c798fe95221",
   "metadata": {},
   "outputs": [],
   "source": [
    "# set plot parameters\n",
    "sns.set_style('white')\n",
    "mpl.rcParams['font.family'] = 'serif'\n",
    "mpl.rcParams['font.serif'] = 'Times New Roman'\n",
    "mpl.rcParams.update({'font.size': 16})\n",
    "mpl.rcParams['figure.autolayout'] = True\n",
    "mpl.rcParams['mathtext.fontset'] = 'stix'\n",
    "\n",
    "SMALL_SIZE = 9\n",
    "MEDIUM_SIZE = 12\n",
    "BIGGER_SIZE = 16\n",
    "\n",
    "plt.rc('font', size=SMALL_SIZE)          # controls default text sizes\n",
    "plt.rc('axes', titlesize=SMALL_SIZE,\n",
    "       labelsize=MEDIUM_SIZE)    # fontsize of the axes title and x and y labels\n",
    "plt.rc('xtick', labelsize=SMALL_SIZE)    # fontsize of the tick labels\n",
    "plt.rc('ytick', labelsize=SMALL_SIZE)    # fontsize of the tick labels\n",
    "plt.rc('legend', fontsize=SMALL_SIZE)    # legend fontsize\n",
    "plt.rc('figure', titlesize=BIGGER_SIZE)  # fontsize of the figure title\n",
    "\n",
    "mycolours = [(0, 102, 255), (0, 204, 153), (255, 0, 102), (74, 111, 152),\n",
    "             (251, 164, 49), (204, 153, 255), (90, 192, 255), (80, 245, 233),\n",
    "             (255, 90, 192), (164, 201, 242), (255, 254, 139), (255, 243, 255)]\n",
    "mycolours = [tuple(shade/255 for shade in colour) for colour in mycolours]\n",
    "\n",
    "# enable copy-on-write mode for Pandas (will be default from Pandas 3.0)\n",
    "pd.options.mode.copy_on_write = True\n",
    "\n",
    "N_CORES = joblib.cpu_count(only_physical_cores=True)"
   ]
  },
  {
   "cell_type": "markdown",
   "id": "3f74ca5d-c546-4295-a4ee-b5ad2620c6ce",
   "metadata": {},
   "source": [
    "## Import data and organise"
   ]
  },
  {
   "cell_type": "code",
   "execution_count": 78,
   "id": "9a15693c-8f76-4529-bc48-f8115532ca10",
   "metadata": {},
   "outputs": [],
   "source": [
    "# import data\n",
    "app = QApplication(sys.argv)\n",
    "fileExts = \"*.csv\"\n",
    "\n",
    "# Part A\n",
    "dataByStimAFilePath = list(QFileDialog.getOpenFileName(filter=fileExts,\n",
    "                                                       caption=r\"Open refmap_listest1_testdataA_ByStim.csv in: \\03 Experiment\\Experiment 1\\Analysis\\PostProcess\"))[0]\n",
    "dataByStimTestA = pd.read_csv(dataByStimAFilePath, index_col=0)\n",
    "\n",
    "# Part A notice data subselection\n",
    "dataByStimANoticeFilePath = list(QFileDialog.getOpenFileName(filter=fileExts,\n",
    "                                                             caption=r\"Open refmap_listest1_testdataANoticeFilt_ByStim.csv in: \\03 Experiment\\Experiment 1\\Analysis\\PostProcess\"))[0]\n",
    "dataByStimTestANotice = pd.read_csv(dataByStimANoticeFilePath, index_col=0)\n",
    "\n",
    "# Part A\n",
    "partADataFilePath = list(QFileDialog.getOpenFileName(filter=fileExts,\n",
    "                                                     caption=r\"Open refmap_listest1_testdataA_BySubj.csv in: \\03 Experiment\\Experiment 1\\Analysis\\PostProcess\"))[0]\n",
    "partADataBySubj = pd.read_csv(partADataFilePath, index_col=False)\n",
    "\n",
    "# Part A notice data subselection\n",
    "partANoticeDataFilePath = list(QFileDialog.getOpenFileName(filter=fileExts,\n",
    "                                                           caption=r\"Open refmap_listest1_testdataANoticeFilt_BySubj.csv in: \\03 Experiment\\Experiment 1\\Analysis\\PostProcess\"))[0]\n",
    "partANoticeDataBySubj = pd.read_csv(partANoticeDataFilePath, index_col=False)\n"
   ]
  },
  {
   "cell_type": "code",
   "execution_count": 79,
   "id": "ae8edbc6-1d07-480a-9126-7ae439229948",
   "metadata": {},
   "outputs": [],
   "source": [
    "# categorise columns\n",
    "SNRCats = [\"No UAS\", \"-16\", \"-10\", \"-4\", \"2\", \"8\"]\n",
    "UASLAeqCats = [\"No UAS\", \"42\", \"48\", \"54\", \"60\"]\n",
    "opCats = [\"No UAS\", \"Landing\", \"Flyby\", \"Takeoff\"]\n",
    "vehicleCats = [\"No UAS\", \"H520\", \"M300\", \"T150\"]\n",
    "\n",
    "for dataset in [dataByStimTestA, dataByStimTestANotice, partADataBySubj, partANoticeDataBySubj]:\n",
    "    dataset['SNRlevel'] = pd.Categorical(dataset['SNRlevel'], SNRCats)\n",
    "    dataset['UASLAeq'] = pd.Categorical(dataset['UASLAeq'], UASLAeqCats)\n",
    "    dataset['UASOperation'] = pd.Categorical(dataset['UASOperation'], opCats)\n",
    "    dataset['UASType'] = pd.Categorical(dataset['UASType'], vehicleCats)"
   ]
  },
  {
   "cell_type": "markdown",
   "id": "b7707026-80b4-4be2-922a-2dc64609f8a9",
   "metadata": {},
   "source": [
    "## Exploratory data analysis\n",
    "\n",
    "In this section, parameter comparisons are made to identify the most important parametric features to be used in further modelling."
   ]
  },
  {
   "cell_type": "markdown",
   "id": "e088c6d7-43cd-4cbc-9534-1ea1ca2da68e",
   "metadata": {},
   "source": [
    "### Random forest approach"
   ]
  },
  {
   "cell_type": "code",
   "execution_count": 80,
   "id": "a2b66131-681e-46e7-acfc-0a8223c22820",
   "metadata": {},
   "outputs": [],
   "source": [
    "# select subsection from aggregated data by stimulus \n",
    "colSelect = ['ValenceMedian', 'ArousalMedian', 'AnnoyMedian', 'HighAnnoyProportion']\n",
    "partASubDataByStim = dataByStimTestA.loc[:, 'UASLAeq':'UASPartLoudGMSTPowAvg'].merge(dataByStimTestA.loc[:, colSelect], left_index=True, right_index=True)\n",
    "partASubDataByStimNum = partASubDataByStim.copy()\n",
    "\n",
    "# preprocess categories\n",
    "# ordinal\n",
    "ordCats = [SNRCats, UASLAeqCats]\n",
    "for ii, cat in enumerate(['SNRlevel', 'UASLAeq']):\n",
    "    encOrdinal = preprocessing.OrdinalEncoder(categories=[ordCats[ii]])\n",
    "    partASubDataByStimNum[cat] = encOrdinal.fit_transform(partASubDataByStimNum[[cat]])\n",
    "\n",
    "# nominal\n",
    "encOneHot = preprocessing.OneHotEncoder(sparse_output=False).set_output(transform='pandas')\n",
    "nomCats = ['UASOperation', 'UASType', 'AmbientEnv']\n",
    "for ii, cat in enumerate(nomCats):\n",
    "    oheTransform = encOneHot.fit_transform(partASubDataByStimNum[[cat]])\n",
    "    partASubDataByStimNum = pd.concat([partASubDataByStimNum, oheTransform], axis=1)\n",
    "\n",
    "partASubDataByStimNum.drop(columns=nomCats, inplace=True)\n"
   ]
  },
  {
   "cell_type": "code",
   "execution_count": 85,
   "id": "21de8d51-cfc5-4820-b35a-5021fd6700b3",
   "metadata": {},
   "outputs": [
    {
     "ename": "TypeError",
     "evalue": "__cinit__() takes exactly 5 positional arguments (6 given)",
     "output_type": "error",
     "traceback": [
      "\u001b[1;31m_RemoteTraceback\u001b[0m\u001b[1;31m:\u001b[0m \n\"\"\"\nTraceback (most recent call last):\n  File \"C:\\Users\\m_lot\\OneDrive - University of Salford\\Code\\refmap-psychoacoustics\\.venv\\Lib\\site-packages\\joblib\\_parallel_backends.py\", line 273, in _wrap_func_call\n    return func()\n           ^^^^^^\n  File \"C:\\Users\\m_lot\\OneDrive - University of Salford\\Code\\refmap-psychoacoustics\\.venv\\Lib\\site-packages\\joblib\\parallel.py\", line 589, in __call__\n    return [func(*args, **kwargs)\n           ^^^^^^^^^^^^^^^^^^^^^^\n  File \"C:\\Users\\m_lot\\OneDrive - University of Salford\\Code\\refmap-psychoacoustics\\.venv\\Lib\\site-packages\\joblib\\parallel.py\", line 589, in <listcomp>\n    return [func(*args, **kwargs)\n            ^^^^^^^^^^^^^^^^^^^^^\n  File \"C:\\Users\\m_lot\\OneDrive - University of Salford\\Code\\refmap-psychoacoustics\\.venv\\Lib\\site-packages\\sklearn\\utils\\parallel.py\", line 129, in __call__\n    return self.function(*args, **kwargs)\n           ^^^^^^^^^^^^^^^^^^^^^^^^^^^^^^\n  File \"C:\\Users\\m_lot\\OneDrive - University of Salford\\Code\\refmap-psychoacoustics\\.venv\\Lib\\site-packages\\sklearn\\ensemble\\_forest.py\", line 192, in _parallel_build_trees\n    tree._fit(\n  File \"C:\\Users\\m_lot\\OneDrive - University of Salford\\Code\\refmap-psychoacoustics\\.venv\\Lib\\site-packages\\sklearn\\tree\\_classes.py\", line 432, in _fit\n    splitter = SPLITTERS[self.splitter](\n               ^^^^^^^^^^^^^^^^^^^^^^^^^\n  File \"sklearn\\tree\\_splitter.pyx\", line 56, in sklearn.tree._splitter.Splitter.__cinit__\nTypeError: __cinit__() takes exactly 5 positional arguments (6 given)\n\"\"\"\n",
      "\nThe above exception was the direct cause of the following exception:\n",
      "Traceback \u001b[1;36m(most recent call last)\u001b[0m:\n",
      "\u001b[0m  Cell \u001b[0;32mIn[85], line 14\u001b[0m\n    rf.fit(X_train, y_train)\u001b[0m\n",
      "\u001b[0m  File \u001b[0;32m~\\OneDrive - University of Salford\\Code\\refmap-psychoacoustics\\.venv\\Lib\\site-packages\\sklearn\\base.py:1474\u001b[0m in \u001b[0;35mwrapper\u001b[0m\n    return fit_method(estimator, *args, **kwargs)\u001b[0m\n",
      "\u001b[0m  File \u001b[0;32m~\\OneDrive - University of Salford\\Code\\refmap-psychoacoustics\\.venv\\Lib\\site-packages\\sklearn\\ensemble\\_forest.py:489\u001b[0m in \u001b[0;35mfit\u001b[0m\n    trees = Parallel(\u001b[0m\n",
      "\u001b[0m  File \u001b[0;32m~\\OneDrive - University of Salford\\Code\\refmap-psychoacoustics\\.venv\\Lib\\site-packages\\sklearn\\utils\\parallel.py:67\u001b[0m in \u001b[0;35m__call__\u001b[0m\n    return super().__call__(iterable_with_config)\u001b[0m\n",
      "\u001b[0m  File \u001b[0;32m~\\OneDrive - University of Salford\\Code\\refmap-psychoacoustics\\.venv\\Lib\\site-packages\\joblib\\parallel.py:1952\u001b[0m in \u001b[0;35m__call__\u001b[0m\n    return output if self.return_generator else list(output)\u001b[0m\n",
      "\u001b[0m  File \u001b[0;32m~\\OneDrive - University of Salford\\Code\\refmap-psychoacoustics\\.venv\\Lib\\site-packages\\joblib\\parallel.py:1595\u001b[0m in \u001b[0;35m_get_outputs\u001b[0m\n    yield from self._retrieve()\u001b[0m\n",
      "\u001b[0m  File \u001b[0;32m~\\OneDrive - University of Salford\\Code\\refmap-psychoacoustics\\.venv\\Lib\\site-packages\\joblib\\parallel.py:1699\u001b[0m in \u001b[0;35m_retrieve\u001b[0m\n    self._raise_error_fast()\u001b[0m\n",
      "\u001b[0m  File \u001b[0;32m~\\OneDrive - University of Salford\\Code\\refmap-psychoacoustics\\.venv\\Lib\\site-packages\\joblib\\parallel.py:1734\u001b[0m in \u001b[0;35m_raise_error_fast\u001b[0m\n    error_job.get_result(self.timeout)\u001b[0m\n",
      "\u001b[0m  File \u001b[0;32m~\\OneDrive - University of Salford\\Code\\refmap-psychoacoustics\\.venv\\Lib\\site-packages\\joblib\\parallel.py:736\u001b[0m in \u001b[0;35mget_result\u001b[0m\n    return self._return_or_raise()\u001b[0m\n",
      "\u001b[1;36m  File \u001b[1;32m~\\OneDrive - University of Salford\\Code\\refmap-psychoacoustics\\.venv\\Lib\\site-packages\\joblib\\parallel.py:754\u001b[1;36m in \u001b[1;35m_return_or_raise\u001b[1;36m\n\u001b[1;33m    raise self._result\u001b[1;36m\n",
      "\u001b[1;31mTypeError\u001b[0m\u001b[1;31m:\u001b[0m __cinit__() takes exactly 5 positional arguments (6 given)\n"
     ]
    }
   ],
   "source": [
    "# run with numerical data only\n",
    "\n",
    "# aggregated annoyance\n",
    "X = np.array(partASubDataByStimNum.loc[:, :'UASPartLoudGMSTPowAvg'].values)\n",
    "X = np.concatenate((X, partASubDataByStimNum.loc[:, 'UASOperation_Flyby':].values), axis=1)\n",
    "y = partASubDataByStimNum['AnnoyMedian'].values\n",
    "\n",
    "features = partASubDataByStimNum.columns\n",
    "\n",
    "X_train, X_test, y_train, y_test = train_test_split(X, y, test_size=0.33,\n",
    "                                                    random_state=99)\n",
    "\n",
    "rf = RandomForestRegressor(random_state=0, n_jobs=N_CORES)\n",
    "rf.fit(X_train, y_train)\n",
    "rf_f_i = list(zip(features, rf.feature_importances_))\n",
    "rf_f_i.sort(key = lambda x : x[1])\n",
    "plt.barh([x[0] for x in rf_f_i],[x[1] for x in rf_f_i])\n",
    "plt.show()\n"
   ]
  },
  {
   "cell_type": "code",
   "execution_count": 101,
   "id": "ac4a1063-65c6-4aac-ba29-b7893a25ce7f",
   "metadata": {},
   "outputs": [
    {
     "ename": "TypeError",
     "evalue": "__cinit__() takes exactly 5 positional arguments (6 given)",
     "output_type": "error",
     "traceback": [
      "Traceback \u001b[1;36m(most recent call last)\u001b[0m:\n",
      "\u001b[0m  Cell \u001b[0;32mIn[101], line 17\u001b[0m\n    rf.fit(X_train, y_train)\u001b[0m\n",
      "\u001b[0m  File \u001b[0;32m~\\OneDrive - University of Salford\\Code\\refmap-psychoacoustics\\.venv\\Lib\\site-packages\\sklearn\\base.py:1474\u001b[0m in \u001b[0;35mwrapper\u001b[0m\n    return fit_method(estimator, *args, **kwargs)\u001b[0m\n",
      "\u001b[0m  File \u001b[0;32m~\\OneDrive - University of Salford\\Code\\refmap-psychoacoustics\\.venv\\Lib\\site-packages\\sklearn\\ensemble\\_forest.py:489\u001b[0m in \u001b[0;35mfit\u001b[0m\n    trees = Parallel(\u001b[0m\n",
      "\u001b[0m  File \u001b[0;32m~\\OneDrive - University of Salford\\Code\\refmap-psychoacoustics\\.venv\\Lib\\site-packages\\sklearn\\utils\\parallel.py:67\u001b[0m in \u001b[0;35m__call__\u001b[0m\n    return super().__call__(iterable_with_config)\u001b[0m\n",
      "\u001b[0m  File \u001b[0;32m~\\OneDrive - University of Salford\\Code\\refmap-psychoacoustics\\.venv\\Lib\\site-packages\\joblib\\parallel.py:1863\u001b[0m in \u001b[0;35m__call__\u001b[0m\n    return output if self.return_generator else list(output)\u001b[0m\n",
      "\u001b[0m  File \u001b[0;32m~\\OneDrive - University of Salford\\Code\\refmap-psychoacoustics\\.venv\\Lib\\site-packages\\joblib\\parallel.py:1792\u001b[0m in \u001b[0;35m_get_sequential_output\u001b[0m\n    res = func(*args, **kwargs)\u001b[0m\n",
      "\u001b[0m  File \u001b[0;32m~\\OneDrive - University of Salford\\Code\\refmap-psychoacoustics\\.venv\\Lib\\site-packages\\sklearn\\utils\\parallel.py:129\u001b[0m in \u001b[0;35m__call__\u001b[0m\n    return self.function(*args, **kwargs)\u001b[0m\n",
      "\u001b[0m  File \u001b[0;32m~\\OneDrive - University of Salford\\Code\\refmap-psychoacoustics\\.venv\\Lib\\site-packages\\sklearn\\ensemble\\_forest.py:192\u001b[0m in \u001b[0;35m_parallel_build_trees\u001b[0m\n    tree._fit(\u001b[0m\n",
      "\u001b[0m  File \u001b[0;32m~\\OneDrive - University of Salford\\Code\\refmap-psychoacoustics\\.venv\\Lib\\site-packages\\sklearn\\tree\\_classes.py:432\u001b[0m in \u001b[0;35m_fit\u001b[0m\n    splitter = SPLITTERS[self.splitter](\u001b[0m\n",
      "\u001b[1;36m  File \u001b[1;32msklearn\\tree\\_splitter.pyx:56\u001b[1;36m in \u001b[1;35msklearn.tree._splitter.Splitter.__cinit__\u001b[1;36m\n",
      "\u001b[1;31mTypeError\u001b[0m\u001b[1;31m:\u001b[0m __cinit__() takes exactly 5 positional arguments (6 given)\n"
     ]
    }
   ],
   "source": [
    "# run with numerical data only\n",
    "\n",
    "# aggregated annoyance\n",
    "#X = np.array(partASubDataByStim.loc[~partASubDataByStim.index.isin(['A1_CALBIN_Pa.wav', 'A2_CALBIN_Pa.wav']),\n",
    "             #'UASLoudECMAHMSPowAvgBin':'UASImpulsHMSMaxMaxLR'].values)\n",
    "#y = partASubDataByStim.loc[~partASubDataByStim.index.isin(['A1_CALBIN_Pa.wav', 'A2_CALBIN_Pa.wav']), 'AnnoyMedian'].values\n",
    "\n",
    "X = np.random.random_sample(size=(80, 12))\n",
    "y = np.random.random_sample(size=(80,))\n",
    "\n",
    "features = partASubDataByStim.columns\n",
    "\n",
    "X_train, X_test, y_train, y_test = train_test_split(X, y, test_size=0.33,\n",
    "                                                    random_state=42)\n",
    "\n",
    "rf = RandomForestRegressor(random_state=0)\n",
    "rf.fit(X_train, y_train)\n",
    "rf_f_i = list(zip(features, rf.feature_importances_))\n",
    "rf_f_i.sort(key = lambda x : x[1])\n",
    "plt.barh([x[0] for x in rf_f_i],[x[1] for x in rf_f_i])\n",
    "plt.show()\n"
   ]
  },
  {
   "cell_type": "code",
   "execution_count": 102,
   "id": "392dfff8-0e0d-4bef-8fe7-4b854a79871a",
   "metadata": {},
   "outputs": [],
   "source": [
    "from sklearn.datasets import load_breast_cancer\n"
   ]
  },
  {
   "cell_type": "code",
   "execution_count": 103,
   "id": "df0cd0a1-188c-430a-98fc-845099cf0023",
   "metadata": {},
   "outputs": [
    {
     "ename": "TypeError",
     "evalue": "__cinit__() takes exactly 5 positional arguments (6 given)",
     "output_type": "error",
     "traceback": [
      "\u001b[1;31m_RemoteTraceback\u001b[0m\u001b[1;31m:\u001b[0m \n\"\"\"\nTraceback (most recent call last):\n  File \"C:\\Users\\m_lot\\OneDrive - University of Salford\\Code\\refmap-psychoacoustics\\.venv\\Lib\\site-packages\\joblib\\_parallel_backends.py\", line 273, in _wrap_func_call\n    return func()\n           ^^^^^^\n  File \"C:\\Users\\m_lot\\OneDrive - University of Salford\\Code\\refmap-psychoacoustics\\.venv\\Lib\\site-packages\\joblib\\parallel.py\", line 589, in __call__\n    return [func(*args, **kwargs)\n           ^^^^^^^^^^^^^^^^^^^^^^\n  File \"C:\\Users\\m_lot\\OneDrive - University of Salford\\Code\\refmap-psychoacoustics\\.venv\\Lib\\site-packages\\joblib\\parallel.py\", line 589, in <listcomp>\n    return [func(*args, **kwargs)\n            ^^^^^^^^^^^^^^^^^^^^^\n  File \"C:\\Users\\m_lot\\OneDrive - University of Salford\\Code\\refmap-psychoacoustics\\.venv\\Lib\\site-packages\\sklearn\\utils\\parallel.py\", line 129, in __call__\n    return self.function(*args, **kwargs)\n           ^^^^^^^^^^^^^^^^^^^^^^^^^^^^^^\n  File \"C:\\Users\\m_lot\\OneDrive - University of Salford\\Code\\refmap-psychoacoustics\\.venv\\Lib\\site-packages\\sklearn\\ensemble\\_forest.py\", line 192, in _parallel_build_trees\n    tree._fit(\n  File \"C:\\Users\\m_lot\\OneDrive - University of Salford\\Code\\refmap-psychoacoustics\\.venv\\Lib\\site-packages\\sklearn\\tree\\_classes.py\", line 432, in _fit\n    splitter = SPLITTERS[self.splitter](\n               ^^^^^^^^^^^^^^^^^^^^^^^^^\n  File \"sklearn\\tree\\_splitter.pyx\", line 56, in sklearn.tree._splitter.Splitter.__cinit__\nTypeError: __cinit__() takes exactly 5 positional arguments (6 given)\n\"\"\"\n",
      "\nThe above exception was the direct cause of the following exception:\n",
      "Traceback \u001b[1;36m(most recent call last)\u001b[0m:\n",
      "\u001b[0m  Cell \u001b[0;32mIn[103], line 9\u001b[0m\n    rf.fit(X_train,y_train)\u001b[0m\n",
      "\u001b[0m  File \u001b[0;32m~\\OneDrive - University of Salford\\Code\\refmap-psychoacoustics\\.venv\\Lib\\site-packages\\sklearn\\base.py:1474\u001b[0m in \u001b[0;35mwrapper\u001b[0m\n    return fit_method(estimator, *args, **kwargs)\u001b[0m\n",
      "\u001b[0m  File \u001b[0;32m~\\OneDrive - University of Salford\\Code\\refmap-psychoacoustics\\.venv\\Lib\\site-packages\\sklearn\\ensemble\\_forest.py:489\u001b[0m in \u001b[0;35mfit\u001b[0m\n    trees = Parallel(\u001b[0m\n",
      "\u001b[0m  File \u001b[0;32m~\\OneDrive - University of Salford\\Code\\refmap-psychoacoustics\\.venv\\Lib\\site-packages\\sklearn\\utils\\parallel.py:67\u001b[0m in \u001b[0;35m__call__\u001b[0m\n    return super().__call__(iterable_with_config)\u001b[0m\n",
      "\u001b[0m  File \u001b[0;32m~\\OneDrive - University of Salford\\Code\\refmap-psychoacoustics\\.venv\\Lib\\site-packages\\joblib\\parallel.py:1952\u001b[0m in \u001b[0;35m__call__\u001b[0m\n    return output if self.return_generator else list(output)\u001b[0m\n",
      "\u001b[0m  File \u001b[0;32m~\\OneDrive - University of Salford\\Code\\refmap-psychoacoustics\\.venv\\Lib\\site-packages\\joblib\\parallel.py:1595\u001b[0m in \u001b[0;35m_get_outputs\u001b[0m\n    yield from self._retrieve()\u001b[0m\n",
      "\u001b[0m  File \u001b[0;32m~\\OneDrive - University of Salford\\Code\\refmap-psychoacoustics\\.venv\\Lib\\site-packages\\joblib\\parallel.py:1699\u001b[0m in \u001b[0;35m_retrieve\u001b[0m\n    self._raise_error_fast()\u001b[0m\n",
      "\u001b[0m  File \u001b[0;32m~\\OneDrive - University of Salford\\Code\\refmap-psychoacoustics\\.venv\\Lib\\site-packages\\joblib\\parallel.py:1734\u001b[0m in \u001b[0;35m_raise_error_fast\u001b[0m\n    error_job.get_result(self.timeout)\u001b[0m\n",
      "\u001b[0m  File \u001b[0;32m~\\OneDrive - University of Salford\\Code\\refmap-psychoacoustics\\.venv\\Lib\\site-packages\\joblib\\parallel.py:736\u001b[0m in \u001b[0;35mget_result\u001b[0m\n    return self._return_or_raise()\u001b[0m\n",
      "\u001b[1;36m  File \u001b[1;32m~\\OneDrive - University of Salford\\Code\\refmap-psychoacoustics\\.venv\\Lib\\site-packages\\joblib\\parallel.py:754\u001b[1;36m in \u001b[1;35m_return_or_raise\u001b[1;36m\n\u001b[1;33m    raise self._result\u001b[1;36m\n",
      "\u001b[1;31mTypeError\u001b[0m\u001b[1;31m:\u001b[0m __cinit__() takes exactly 5 positional arguments (6 given)\n"
     ]
    }
   ],
   "source": [
    "X0, y0 = load_breast_cancer(return_X_y=True)\n",
    "\n",
    "X0_train, X0_test, y0_train, y0_test = train_test_split(X0, y0, test_size=0.33,\n",
    "                                                        random_state=42)\n",
    "\n",
    "N_CORES = joblib.cpu_count(only_physical_cores=True)\n",
    "\n",
    "rf = RandomForestRegressor(random_state=0, n_jobs=N_CORES)\n",
    "rf.fit(X_train,y_train)"
   ]
  }
 ],
 "metadata": {
  "kernelspec": {
   "display_name": "Python 3 (Spyder)",
   "language": "python3",
   "name": "python3"
  },
  "language_info": {
   "codemirror_mode": {
    "name": "ipython",
    "version": 3
   },
   "file_extension": ".py",
   "mimetype": "text/x-python",
   "name": "python",
   "nbconvert_exporter": "python",
   "pygments_lexer": "ipython3",
   "version": "3.11.5"
  }
 },
 "nbformat": 4,
 "nbformat_minor": 5
}
